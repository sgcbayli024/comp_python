{
 "cells": [
  {
   "cell_type": "markdown",
   "id": "729f612e",
   "metadata": {},
   "source": [
    "In this notebook, I solve the Aiyagari model. To do so, we will iterate on decision rules in the state space. I will also attempt to take advantage of my GPU via PyTorch when applicable."
   ]
  },
  {
   "cell_type": "markdown",
   "id": "7981bcb6",
   "metadata": {},
   "source": [
    "The structure of the code is as follows:\n",
    "- Given prices, $w$ and $r$, solve the consumption-savings problem for an agent. and obtain the policy function $a_{t+1}(a_t,z_t;w,r)$.\n",
    "- Starting from an initial distribution of assets, \n",
    "    - Simulate a panel of assets. That is, simulate N agents for T periods, with N,T>>0\n",
    "    - Choose the cross-section at time T, to calculate implied aggregate asset supply\n",
    "    - Does $\\mu_{T-1}$=$\\mu_T$ ? If not, increase T\n",
    "    - Does supply equal demand in the capital market? If so, we have found the steady-state. If not, adjust demand and supply and go back to the C-S problem."
   ]
  },
  {
   "cell_type": "markdown",
   "id": "8d6cdc69",
   "metadata": {},
   "source": [
    "First, import the necessary packges"
   ]
  },
  {
   "cell_type": "code",
   "execution_count": null,
   "id": "26595cba",
   "metadata": {},
   "outputs": [],
   "source": [
    "import torch as t\n",
    "import numpy as np\n",
    "import scipy as sc\n",
    "import matplotlib as plt\n",
    "import quantecon as qe"
   ]
  },
  {
   "cell_type": "markdown",
   "id": "486c166c",
   "metadata": {},
   "source": [
    "Next, we make sure that Conda can communicate with our GPU."
   ]
  },
  {
   "cell_type": "code",
   "execution_count": 22,
   "id": "593f3e13",
   "metadata": {},
   "outputs": [],
   "source": [
    "t.cuda.is_available() # Check that CUDA is available. \"True\" or \"False\"\n",
    "t.cuda.device(0)\n",
    "t.cuda.get_device_name(0) # Confirm that we are communicating with the correct GPU\n",
    "device = t.device(\"cuda\" if t.cuda.is_available() else \"cpu\") # Set our GPU as the \"device\""
   ]
  },
  {
   "cell_type": "markdown",
   "id": "56d48110",
   "metadata": {},
   "source": [
    "We start with defining the function which will create the expanding grids. In later versions of PyTorch, a JIT-compiler is available, which could massively speed up our code, but alas we cannot do that with our version (1.7.0). I may switch this code to pure NumPy at a later date and use Numba as my compiler."
   ]
  },
  {
   "cell_type": "code",
   "execution_count": 53,
   "id": "9ea5a4ea",
   "metadata": {},
   "outputs": [],
   "source": [
    "def exp_grids(n, theta):\n",
    "    \n",
    "    zero_grid = t.linspace(0,1,n).reshape(-1,1)\n",
    "    \n",
    "    a_grid=t.zeros(shape=(n,1))\n",
    "    \n",
    "    ## Reset k_low and k_high before running the code ##\n",
    "    \n",
    "    a_low = 1\n",
    "    \n",
    "    a_high = 100\n",
    "    \n",
    "    for i in range(len(zero_grid)):\n",
    "        a_grid[i] = (k_low) + (k_high - k_low) * (zero_grid[i] ** theta)    \n",
    "        \n",
    "    return a_grid"
   ]
  },
  {
   "cell_type": "markdown",
   "id": "b4a365d8",
   "metadata": {},
   "source": [
    "Let's define our utility function next."
   ]
  },
  {
   "cell_type": "code",
   "execution_count": 20,
   "id": "80258cc5",
   "metadata": {},
   "outputs": [],
   "source": [
    "def u(c, gamma):\n",
    "    if gamma == 1:\n",
    "        return t.log(c)\n",
    "    else:\n",
    "        return (c**(1-gamma)/(1-gamma))"
   ]
  },
  {
   "cell_type": "markdown",
   "id": "7dcc0941",
   "metadata": {},
   "source": [
    "Now, we want to write code which initialises the Markov Chain on labour. Note that the API of the Rouwenhorst method in Quantecon is \"rouwenhorst(n, rho, sigma, mu=0.)\""
   ]
  },
  {
   "cell_type": "markdown",
   "id": "7bbbd8cb",
   "metadata": {},
   "source": [
    "Let's save all our parameters inside a list to make life easier for ourselves."
   ]
  },
  {
   "cell_type": "code",
   "execution_count": 49,
   "id": "7f5ec1a8",
   "metadata": {},
   "outputs": [],
   "source": [
    "# P = [n_k, beta, theta, n_z, rho, sigma, mu]\n",
    "P = [101, 0.96, 2, 19, 0.95, 0.2, 0]"
   ]
  },
  {
   "cell_type": "code",
   "execution_count": 50,
   "id": "076efcca",
   "metadata": {},
   "outputs": [],
   "source": [
    "def Markov_chain(P):\n",
    "    \n",
    "    mc = qe.markov.approximation.rouwenhorst(P[3], P[4], P[5], P[6])\n",
    "    z_grid, T = mc.state_values, mc.P\n",
    "    \n",
    "    return z_grid, T   "
   ]
  },
  {
   "cell_type": "code",
   "execution_count": 51,
   "id": "21c4c411",
   "metadata": {},
   "outputs": [],
   "source": [
    "z_grid, T = Markov_chain(P)"
   ]
  },
  {
   "cell_type": "code",
   "execution_count": 55,
   "id": "8579ece5",
   "metadata": {},
   "outputs": [],
   "source": [
    "def B(P, r, w, b):\n",
    "    \n",
    "    z_grid, T = Markov_chain(P)\n",
    "    \n",
    "    a_grid = exp_grida(P[0], P[2])\n",
    "    \n",
    "    V_init = np.zeros(shape=(P[0], P[3]))\n",
    "    \n",
    "    G_init = np.zeros(shape=(P[0], P[3]))\n",
    "    \n",
    "    if b>0:\n",
    "        phi = np.min([v, (w*np.min(z_grid))/r])\n",
    "        \n",
    "    else:\n",
    "        phi = b\n",
    "        \n",
    "    for j in range(P[3]):\n",
    "        \n",
    "        Ev = V_init * T[j,:]\n",
    "        \n",
    "        IEv = scipy.interpolate.interp1d(a_grid, Ev, kind='cubic')"
   ]
  },
  {
   "cell_type": "code",
   "execution_count": null,
   "id": "2a03a371",
   "metadata": {},
   "outputs": [],
   "source": []
  }
 ],
 "metadata": {
  "kernelspec": {
   "display_name": "Python 3 (ipykernel)",
   "language": "python",
   "name": "python3"
  },
  "language_info": {
   "codemirror_mode": {
    "name": "ipython",
    "version": 3
   },
   "file_extension": ".py",
   "mimetype": "text/x-python",
   "name": "python",
   "nbconvert_exporter": "python",
   "pygments_lexer": "ipython3",
   "version": "3.7.16"
  }
 },
 "nbformat": 4,
 "nbformat_minor": 5
}
