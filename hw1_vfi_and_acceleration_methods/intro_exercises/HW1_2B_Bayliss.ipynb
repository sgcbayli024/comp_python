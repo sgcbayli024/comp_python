{
 "cells": [
  {
   "cell_type": "code",
   "execution_count": 48,
   "metadata": {},
   "outputs": [],
   "source": [
    "import numpy as np\n",
    "import numba\n",
    "import math \n"
   ]
  },
  {
   "cell_type": "code",
   "execution_count": 149,
   "metadata": {},
   "outputs": [],
   "source": [
    "n=21"
   ]
  },
  {
   "cell_type": "code",
   "execution_count": 21,
   "metadata": {},
   "outputs": [],
   "source": [
    "phi=(math.sqrt(5)-1)/2"
   ]
  },
  {
   "cell_type": "code",
   "execution_count": 143,
   "metadata": {},
   "outputs": [],
   "source": [
    "exponents_list=list(range(0,20+1))"
   ]
  },
  {
   "cell_type": "code",
   "execution_count": 144,
   "metadata": {},
   "outputs": [],
   "source": [
    "exponents=np.array(exponents_list)"
   ]
  },
  {
   "cell_type": "code",
   "execution_count": 145,
   "metadata": {},
   "outputs": [
    {
     "name": "stdout",
     "output_type": "stream",
     "text": [
      "[ 0  1  2  3  4  5  6  7  8  9 10 11 12 13 14 15 16 17 18 19 20]\n"
     ]
    }
   ],
   "source": [
    "print(exponents.T)"
   ]
  },
  {
   "cell_type": "code",
   "execution_count": 146,
   "metadata": {},
   "outputs": [],
   "source": [
    "a = np.zeros(shape=(21,1))"
   ]
  },
  {
   "cell_type": "code",
   "execution_count": 147,
   "metadata": {},
   "outputs": [
    {
     "name": "stdout",
     "output_type": "stream",
     "text": [
      "[[0.]\n",
      " [0.]\n",
      " [0.]\n",
      " [0.]\n",
      " [0.]\n",
      " [0.]\n",
      " [0.]\n",
      " [0.]\n",
      " [0.]\n",
      " [0.]\n",
      " [0.]\n",
      " [0.]\n",
      " [0.]\n",
      " [0.]\n",
      " [0.]\n",
      " [0.]\n",
      " [0.]\n",
      " [0.]\n",
      " [0.]\n",
      " [0.]\n",
      " [0.]]\n"
     ]
    }
   ],
   "source": [
    "print(a)"
   ]
  },
  {
   "cell_type": "code",
   "execution_count": 150,
   "metadata": {},
   "outputs": [
    {
     "name": "stdout",
     "output_type": "stream",
     "text": [
      "0\n",
      "1\n",
      "2\n",
      "3\n",
      "4\n",
      "5\n",
      "6\n",
      "7\n",
      "8\n",
      "9\n",
      "10\n",
      "11\n",
      "12\n",
      "13\n",
      "14\n",
      "15\n",
      "16\n",
      "17\n",
      "18\n",
      "19\n",
      "20\n"
     ]
    }
   ],
   "source": [
    "for i in range(n):\n",
    "    print(exponents[i])"
   ]
  },
  {
   "cell_type": "code",
   "execution_count": 151,
   "metadata": {},
   "outputs": [
    {
     "name": "stdout",
     "output_type": "stream",
     "text": [
      "[[1.00000000e+00]\n",
      " [6.18033989e-01]\n",
      " [3.81966011e-01]\n",
      " [2.36067977e-01]\n",
      " [1.45898034e-01]\n",
      " [9.01699437e-02]\n",
      " [5.57280900e-02]\n",
      " [3.44418537e-02]\n",
      " [2.12862363e-02]\n",
      " [1.31556175e-02]\n",
      " [8.13061876e-03]\n",
      " [5.02499874e-03]\n",
      " [3.10562002e-03]\n",
      " [1.91937873e-03]\n",
      " [1.18624129e-03]\n",
      " [7.33137436e-04]\n",
      " [4.53103854e-04]\n",
      " [2.80033582e-04]\n",
      " [1.73070272e-04]\n",
      " [1.06963310e-04]\n",
      " [6.61069614e-05]]\n"
     ]
    }
   ],
   "source": [
    "for i in range(n):\n",
    "    [a[i]]=[phi ** exponents[i]]\n",
    "print(a)"
   ]
  },
  {
   "cell_type": "code",
   "execution_count": 154,
   "metadata": {},
   "outputs": [],
   "source": [
    "b = np.zeros(shape=(21,1))"
   ]
  },
  {
   "cell_type": "code",
   "execution_count": 156,
   "metadata": {},
   "outputs": [
    {
     "name": "stdout",
     "output_type": "stream",
     "text": [
      "[[0.]\n",
      " [0.]\n",
      " [0.]\n",
      " [0.]\n",
      " [0.]\n",
      " [0.]\n",
      " [0.]\n",
      " [0.]\n",
      " [0.]\n",
      " [0.]\n",
      " [0.]\n",
      " [0.]\n",
      " [0.]\n",
      " [0.]\n",
      " [0.]\n",
      " [0.]\n",
      " [0.]\n",
      " [0.]\n",
      " [0.]\n",
      " [0.]\n",
      " [0.]]\n"
     ]
    }
   ],
   "source": [
    "print(b)"
   ]
  },
  {
   "cell_type": "code",
   "execution_count": 160,
   "metadata": {},
   "outputs": [
    {
     "name": "stdout",
     "output_type": "stream",
     "text": [
      "[[1.00000000e+00]\n",
      " [6.18033989e-01]\n",
      " [3.81966011e-01]\n",
      " [2.36067977e-01]\n",
      " [1.45898034e-01]\n",
      " [9.01699437e-02]\n",
      " [5.57280900e-02]\n",
      " [3.44418537e-02]\n",
      " [2.12862363e-02]\n",
      " [1.31556175e-02]\n",
      " [8.13061876e-03]\n",
      " [5.02499874e-03]\n",
      " [3.10562002e-03]\n",
      " [1.91937873e-03]\n",
      " [1.18624129e-03]\n",
      " [7.33137436e-04]\n",
      " [4.53103854e-04]\n",
      " [2.80033582e-04]\n",
      " [1.73070272e-04]\n",
      " [1.06963311e-04]\n",
      " [6.61069610e-05]]\n"
     ]
    }
   ],
   "source": [
    "\n",
    "for i in range(n):\n",
    "    if i<2: \n",
    "        [b[i]]= [phi ** i]\n",
    "    else:\n",
    "        #[recursion[i]]= [phi ** i-2 - phi ** i-1]\n",
    "        [b[i]]= [b[i-2]-b[i-1]]\n",
    "print(b)\n"
   ]
  },
  {
   "cell_type": "code",
   "execution_count": 159,
   "metadata": {},
   "outputs": [
    {
     "data": {
      "text/plain": [
       "array([[ 0.00000000e+00],\n",
       "       [ 0.00000000e+00],\n",
       "       [ 1.11022302e-16],\n",
       "       [-5.55111512e-17],\n",
       "       [ 2.22044605e-16],\n",
       "       [-2.35922393e-16],\n",
       "       [ 4.64905892e-16],\n",
       "       [-6.86950496e-16],\n",
       "       [ 1.15532584e-15],\n",
       "       [-1.83707216e-15],\n",
       "       [ 2.99413272e-15],\n",
       "       [-4.82947016e-15],\n",
       "       [ 7.82533760e-15],\n",
       "       [-1.26545909e-14],\n",
       "       [ 2.04805790e-14],\n",
       "       [-3.31349531e-14],\n",
       "       [ 5.36156406e-14],\n",
       "       [-8.67504853e-14],\n",
       "       [ 1.40366126e-13],\n",
       "       [-2.27116557e-13],\n",
       "       [ 3.67482710e-13]])"
      ]
     },
     "execution_count": 159,
     "metadata": {},
     "output_type": "execute_result"
    }
   ],
   "source": [
    "a-b"
   ]
  }
 ],
 "metadata": {
  "kernelspec": {
   "display_name": "Python 3",
   "language": "python",
   "name": "python3"
  },
  "language_info": {
   "codemirror_mode": {
    "name": "ipython",
    "version": 3
   },
   "file_extension": ".py",
   "mimetype": "text/x-python",
   "name": "python",
   "nbconvert_exporter": "python",
   "pygments_lexer": "ipython3",
   "version": "3.11.6"
  }
 },
 "nbformat": 4,
 "nbformat_minor": 2
}
