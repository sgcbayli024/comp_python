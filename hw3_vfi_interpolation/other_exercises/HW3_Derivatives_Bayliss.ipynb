{
 "cells": [
  {
   "cell_type": "code",
   "execution_count": 38,
   "metadata": {},
   "outputs": [],
   "source": [
    "import numpy as np\n",
    "from sympy import *"
   ]
  },
  {
   "cell_type": "code",
   "execution_count": 45,
   "metadata": {},
   "outputs": [
    {
     "name": "stdout",
     "output_type": "stream",
     "text": [
      "Expression : 0.5/x**0.5 + 0.5/x**0.2\n"
     ]
    }
   ],
   "source": [
    "x = symbols('x')\n",
    "expr = ((1/2) * (x ** (-1/2))) + ((1/2) * (x ** (-1/5)))\n",
    "print(\"Expression : {}\".format(expr))"
   ]
  },
  {
   "cell_type": "code",
   "execution_count": 57,
   "metadata": {},
   "outputs": [
    {
     "data": {
      "text/latex": [
       "$\\displaystyle -0.197556624253403$"
      ],
      "text/plain": [
       "-0.197556624253403"
      ]
     },
     "execution_count": 57,
     "metadata": {},
     "output_type": "execute_result"
    }
   ],
   "source": [
    "expr_diff = Derivative(expr, x)\n",
    "expr_diff.doit().subs({x:1.5})"
   ]
  },
  {
   "cell_type": "code",
   "execution_count": 58,
   "metadata": {},
   "outputs": [
    {
     "name": "stdout",
     "output_type": "stream",
     "text": [
      "<class 'list'>\n"
     ]
    }
   ],
   "source": [
    "epsilon_vals = [1e-1, 1e-2, 1e-3, 1e-4, 1e-5, 1e-6, 1e-7, 1e-8, 1e-9, 1e-10]\n",
    "print(type(epsilon_vals))"
   ]
  },
  {
   "cell_type": "code",
   "execution_count": 40,
   "metadata": {},
   "outputs": [],
   "source": [
    "def f(y):\n",
    "    return ((1/2) * (y ** (-1/2))) + ((1/2) * (y ** (-1/5)))"
   ]
  },
  {
   "cell_type": "code",
   "execution_count": 41,
   "metadata": {},
   "outputs": [],
   "source": [
    "one_sided_derivatives=np.zeros(shape=(10,1))"
   ]
  },
  {
   "cell_type": "code",
   "execution_count": 42,
   "metadata": {},
   "outputs": [
    {
     "name": "stdout",
     "output_type": "stream",
     "text": [
      "[[-0.18876488]\n",
      " [-0.19663527]\n",
      " [-0.19746404]\n",
      " [-0.19754736]\n",
      " [-0.1975557 ]\n",
      " [-0.19755653]\n",
      " [-0.19755661]\n",
      " [-0.19755662]\n",
      " [-0.19755664]\n",
      " [-0.19755642]]\n"
     ]
    }
   ],
   "source": [
    "for i in range(len(one_sided_derivatives)):\n",
    "    if i == 0:\n",
    "        one_sided_derivatives[i] = (f(1.5+epsilon_vals[0])-f(1.5))/(epsilon_vals[0])\n",
    "    if i == 1:\n",
    "        one_sided_derivatives[i] = (f(1.5+epsilon_vals[1])-f(1.5))/(epsilon_vals[1])\n",
    "    if i == 2:\n",
    "        one_sided_derivatives[i] = (f(1.5+epsilon_vals[2])-f(1.5))/(epsilon_vals[2])\n",
    "    if i == 3:\n",
    "        one_sided_derivatives[i] = (f(1.5+epsilon_vals[3])-f(1.5))/(epsilon_vals[3])\n",
    "    if i == 4:\n",
    "        one_sided_derivatives[i] = (f(1.5+epsilon_vals[4])-f(1.5))/(epsilon_vals[4])\n",
    "    if i == 5:\n",
    "        one_sided_derivatives[i] = (f(1.5+epsilon_vals[5])-f(1.5))/(epsilon_vals[5])\n",
    "    if i == 6:\n",
    "        one_sided_derivatives[i] = (f(1.5+epsilon_vals[6])-f(1.5))/(epsilon_vals[6])\n",
    "    if i == 7:\n",
    "        one_sided_derivatives[i] = (f(1.5+epsilon_vals[7])-f(1.5))/(epsilon_vals[7])\n",
    "    if i == 8:\n",
    "        one_sided_derivatives[i] = (f(1.5+epsilon_vals[8])-f(1.5))/(epsilon_vals[8])\n",
    "    if i == 9:\n",
    "        one_sided_derivatives[i] = (f(1.5+epsilon_vals[9])-f(1.5))/(epsilon_vals[9])\n",
    "    if i == 10:\n",
    "        one_sided_derivatives[i] = (f(1.5+epsilon_vals[10])-f(1.5))/(epsilon_vals[10])\n",
    "print(one_sided_derivatives)"
   ]
  },
  {
   "cell_type": "code",
   "execution_count": 43,
   "metadata": {},
   "outputs": [],
   "source": [
    "two_sided_derivatives=np.zeros(shape=(10,1))"
   ]
  },
  {
   "cell_type": "code",
   "execution_count": 44,
   "metadata": {},
   "outputs": [
    {
     "name": "stdout",
     "output_type": "stream",
     "text": [
      "[[-0.19805654]\n",
      " [-0.19756161]\n",
      " [-0.19755667]\n",
      " [-0.19755662]\n",
      " [-0.19755662]\n",
      " [-0.19755662]\n",
      " [-0.19755662]\n",
      " [-0.19755662]\n",
      " [-0.19755664]\n",
      " [-0.19755697]]\n"
     ]
    }
   ],
   "source": [
    "for i in range(len(two_sided_derivatives)):\n",
    "    if i == 0:\n",
    "        two_sided_derivatives[i] = (f(1.5+epsilon_vals[0])-f(1.5-epsilon_vals[0]))/(2*epsilon_vals[0])\n",
    "    if i == 1:\n",
    "        two_sided_derivatives[i] = (f(1.5+epsilon_vals[1])-f(1.5-epsilon_vals[1]))/(2*epsilon_vals[1])\n",
    "    if i == 2:\n",
    "        two_sided_derivatives[i] = (f(1.5+epsilon_vals[2])-f(1.5-epsilon_vals[2]))/(2*epsilon_vals[2])\n",
    "    if i == 3:\n",
    "        two_sided_derivatives[i] = (f(1.5+epsilon_vals[3])-f(1.5-epsilon_vals[3]))/(2*epsilon_vals[3])\n",
    "    if i == 4:\n",
    "        two_sided_derivatives[i] = (f(1.5+epsilon_vals[4])-f(1.5-epsilon_vals[4]))/(2*epsilon_vals[4])\n",
    "    if i == 5:\n",
    "        two_sided_derivatives[i] = (f(1.5+epsilon_vals[5])-f(1.5-epsilon_vals[5]))/(2*epsilon_vals[5])\n",
    "    if i == 6:\n",
    "        two_sided_derivatives[i] = (f(1.5+epsilon_vals[6])-f(1.5-epsilon_vals[6]))/(2*epsilon_vals[6])\n",
    "    if i == 7:\n",
    "        two_sided_derivatives[i] = (f(1.5+epsilon_vals[7])-f(1.5-epsilon_vals[7]))/(2*epsilon_vals[7])\n",
    "    if i == 8:\n",
    "        two_sided_derivatives[i] = (f(1.5+epsilon_vals[8])-f(1.5-epsilon_vals[8]))/(2*epsilon_vals[8])\n",
    "    if i == 9:\n",
    "        two_sided_derivatives[i] = (f(1.5+epsilon_vals[9])-f(1.5-epsilon_vals[9]))/(2*epsilon_vals[9])\n",
    "    if i == 10:\n",
    "        two_sided_derivatives[i] = (f(1.5+epsilon_vals[10])-f(1.5-epsilon_vals[10]))/(2*epsilon_vals[10])\n",
    "print(two_sided_derivatives)"
   ]
  }
 ],
 "metadata": {
  "kernelspec": {
   "display_name": "Python 3",
   "language": "python",
   "name": "python3"
  },
  "language_info": {
   "codemirror_mode": {
    "name": "ipython",
    "version": 3
   },
   "file_extension": ".py",
   "mimetype": "text/x-python",
   "name": "python",
   "nbconvert_exporter": "python",
   "pygments_lexer": "ipython3",
   "version": "3.11.6"
  }
 },
 "nbformat": 4,
 "nbformat_minor": 2
}
