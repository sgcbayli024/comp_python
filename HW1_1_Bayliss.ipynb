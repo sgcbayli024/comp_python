{
 "cells": [
  {
   "cell_type": "code",
   "execution_count": 80,
   "metadata": {},
   "outputs": [],
   "source": [
    "import numpy as np"
   ]
  },
  {
   "cell_type": "code",
   "execution_count": 111,
   "metadata": {},
   "outputs": [],
   "source": [
    "n=8"
   ]
  },
  {
   "cell_type": "code",
   "execution_count": 112,
   "metadata": {},
   "outputs": [],
   "source": [
    "a=1\n",
    "b=100000"
   ]
  },
  {
   "cell_type": "code",
   "execution_count": 113,
   "metadata": {},
   "outputs": [],
   "source": [
    "lst=list(range(1,9))"
   ]
  },
  {
   "cell_type": "code",
   "execution_count": 114,
   "metadata": {},
   "outputs": [
    {
     "name": "stdout",
     "output_type": "stream",
     "text": [
      "[1, 2, 3, 4, 5, 6, 7, 8]\n"
     ]
    }
   ],
   "source": [
    "print(lst)"
   ]
  },
  {
   "cell_type": "code",
   "execution_count": 115,
   "metadata": {},
   "outputs": [],
   "source": [
    "lst_array=np.array(lst)"
   ]
  },
  {
   "cell_type": "code",
   "execution_count": 116,
   "metadata": {},
   "outputs": [],
   "source": [
    "c=np.zeros(shape=(8,1))"
   ]
  },
  {
   "cell_type": "code",
   "execution_count": 117,
   "metadata": {},
   "outputs": [
    {
     "name": "stdout",
     "output_type": "stream",
     "text": [
      "[[0.]\n",
      " [0.]\n",
      " [0.]\n",
      " [0.]\n",
      " [0.]\n",
      " [0.]\n",
      " [0.]\n",
      " [0.]]\n"
     ]
    }
   ],
   "source": [
    "print(c)"
   ]
  },
  {
   "cell_type": "code",
   "execution_count": 118,
   "metadata": {},
   "outputs": [
    {
     "name": "stdout",
     "output_type": "stream",
     "text": [
      "[[1.e-01]\n",
      " [1.e-02]\n",
      " [1.e-03]\n",
      " [1.e-04]\n",
      " [1.e-05]\n",
      " [1.e-06]\n",
      " [1.e-07]\n",
      " [1.e-08]]\n"
     ]
    }
   ],
   "source": [
    "for i in range(n):\n",
    "    [c[i]]=[np.float_power(10, -lst_array[i])]\n",
    "print(c)"
   ]
  },
  {
   "cell_type": "code",
   "execution_count": 120,
   "metadata": {},
   "outputs": [],
   "source": [
    "q=np.zeros(shape=(8,1))"
   ]
  },
  {
   "cell_type": "code",
   "execution_count": 121,
   "metadata": {},
   "outputs": [
    {
     "name": "stdout",
     "output_type": "stream",
     "text": [
      "[[0.]\n",
      " [0.]\n",
      " [0.]\n",
      " [0.]\n",
      " [0.]\n",
      " [0.]\n",
      " [0.]\n",
      " [0.]]\n"
     ]
    }
   ],
   "source": [
    "print(q)"
   ]
  },
  {
   "cell_type": "code",
   "execution_count": 129,
   "metadata": {},
   "outputs": [],
   "source": [
    "def quadratic_function(c):\n",
    "    return 1/2 * (-b + np.sign(b) * np.sqrt(b**2 - 4*a*c))"
   ]
  },
  {
   "cell_type": "code",
   "execution_count": 131,
   "metadata": {},
   "outputs": [
    {
     "name": "stdout",
     "output_type": "stream",
     "text": [
      "[[-1.00000034e-06]\n",
      " [-1.00000761e-07]\n",
      " [-9.99716576e-09]\n",
      " [-1.00408215e-09]\n",
      " [-1.01863407e-10]\n",
      " [-7.27595761e-12]\n",
      " [ 0.00000000e+00]\n",
      " [ 0.00000000e+00]]\n"
     ]
    }
   ],
   "source": [
    "for i in range(n):\n",
    "    [q[i]]=[quadratic_function(c[i])]\n",
    "print(q)"
   ]
  },
  {
   "cell_type": "code",
   "execution_count": 132,
   "metadata": {},
   "outputs": [],
   "source": [
    "x_1=np.zeros(shape=(8,1))"
   ]
  },
  {
   "cell_type": "code",
   "execution_count": 133,
   "metadata": {},
   "outputs": [
    {
     "name": "stdout",
     "output_type": "stream",
     "text": [
      "[[-1.00000034e-06]\n",
      " [-1.00000761e-07]\n",
      " [-9.99716576e-09]\n",
      " [-1.00408215e-09]\n",
      " [-1.01863407e-10]\n",
      " [-7.27595761e-12]\n",
      " [ 0.00000000e+00]\n",
      " [ 0.00000000e+00]]\n"
     ]
    }
   ],
   "source": [
    "for i in range(n):\n",
    "    [x_1[i]]=[q[i]/a]\n",
    "print(x_1)"
   ]
  },
  {
   "cell_type": "code",
   "execution_count": 134,
   "metadata": {},
   "outputs": [],
   "source": [
    "x_2=np.zeros(shape=(8,1))"
   ]
  },
  {
   "cell_type": "code",
   "execution_count": 135,
   "metadata": {},
   "outputs": [
    {
     "name": "stdout",
     "output_type": "stream",
     "text": [
      "[[ -99999.96614644]\n",
      " [ -99999.23855646]\n",
      " [-100028.3504163 ]\n",
      " [ -99593.44454493]\n",
      " [ -98170.68105143]\n",
      " [-137438.953472  ]\n",
      " [             inf]\n",
      " [             inf]]\n"
     ]
    },
    {
     "name": "stderr",
     "output_type": "stream",
     "text": [
      "C:\\Users\\bayle\\AppData\\Local\\Temp\\ipykernel_11824\\3871057776.py:2: RuntimeWarning: divide by zero encountered in divide\n",
      "  [x_2[i]]=[c[i]/q[i]]\n"
     ]
    }
   ],
   "source": [
    "for i in range(n):\n",
    "    [x_2[i]]=[c[i]/q[i]]\n",
    "print(x_2)"
   ]
  },
  {
   "cell_type": "code",
   "execution_count": 136,
   "metadata": {},
   "outputs": [],
   "source": [
    "def quadratic_equation():\n",
    "    return 1/2 * (-b + b * np.sqrt(b**2 - 4*a*c))"
   ]
  },
  {
   "cell_type": "code",
   "execution_count": 140,
   "metadata": {},
   "outputs": [
    {
     "name": "stdout",
     "output_type": "stream",
     "text": [
      "[[ 99999.999998  ]\n",
      " [ 99999.9999998 ]\n",
      " [ 99999.99999998]\n",
      " [100000.        ]\n",
      " [100000.        ]\n",
      " [100000.        ]\n",
      " [100000.        ]\n",
      " [100000.        ]]\n"
     ]
    }
   ],
   "source": [
    "aux = np.sqrt(b**2-4*a*c)\n",
    "print(aux)"
   ]
  },
  {
   "cell_type": "code",
   "execution_count": 137,
   "metadata": {},
   "outputs": [],
   "source": [
    "solution=np.zeros(shape=(8,1))"
   ]
  },
  {
   "cell_type": "code",
   "execution_count": 138,
   "metadata": {},
   "outputs": [
    {
     "name": "stdout",
     "output_type": "stream",
     "text": [
      "[[-1.00000034e-06]\n",
      " [-1.00000761e-07]\n",
      " [-9.99716576e-09]\n",
      " [-1.00408215e-09]\n",
      " [-1.01863407e-10]\n",
      " [-7.27595761e-12]\n",
      " [ 0.00000000e+00]\n",
      " [ 0.00000000e+00]]\n"
     ]
    }
   ],
   "source": [
    "for i in range(n):\n",
    "    [solution[i]]=[quadratic_function(c[i])]\n",
    "print(solution)"
   ]
  },
  {
   "cell_type": "code",
   "execution_count": 139,
   "metadata": {},
   "outputs": [
    {
     "data": {
      "text/plain": [
       "array([[0.],\n",
       "       [0.],\n",
       "       [0.],\n",
       "       [0.],\n",
       "       [0.],\n",
       "       [0.],\n",
       "       [0.],\n",
       "       [0.]])"
      ]
     },
     "execution_count": 139,
     "metadata": {},
     "output_type": "execute_result"
    }
   ],
   "source": [
    "solution-x_1"
   ]
  }
 ],
 "metadata": {
  "kernelspec": {
   "display_name": "Python 3",
   "language": "python",
   "name": "python3"
  },
  "language_info": {
   "codemirror_mode": {
    "name": "ipython",
    "version": 3
   },
   "file_extension": ".py",
   "mimetype": "text/x-python",
   "name": "python",
   "nbconvert_exporter": "python",
   "pygments_lexer": "ipython3",
   "version": "3.11.6"
  }
 },
 "nbformat": 4,
 "nbformat_minor": 2
}
